{
 "cells": [
  {
   "cell_type": "code",
   "execution_count": null,
   "id": "065df193",
   "metadata": {},
   "outputs": [],
   "source": [
    "%env TFHUB_CACHE_DIR=./tmp"
   ]
  },
  {
   "cell_type": "code",
   "execution_count": null,
   "id": "20916b89",
   "metadata": {},
   "outputs": [],
   "source": [
    "from data.mlforkids import MLforKidsImageProject\n",
    "\n",
    "key = \"<key>\"\n",
    "\n",
    "myproject = MLforKidsImageProject(key)\n",
    "myproject.train_model()"
   ]
  },
  {
   "cell_type": "code",
   "execution_count": null,
   "id": "4d76bde6",
   "metadata": {},
   "outputs": [],
   "source": [
    "demo = myproject.prediction(\"test.png\")\n",
    "\n",
    "label = demo[\"class_name\"]\n",
    "confidence = demo[\"confidence\"]\n",
    "\n",
    "print (\"result: '%s' with %d%% confidence\" % (label, confidence))"
   ]
  }
 ],
 "metadata": {
  "kernelspec": {
   "display_name": "Python 3 (ipykernel)",
   "language": "python",
   "name": "python3"
  },
  "language_info": {
   "codemirror_mode": {
    "name": "ipython",
    "version": 3
   },
   "file_extension": ".py",
   "mimetype": "text/x-python",
   "name": "python",
   "nbconvert_exporter": "python",
   "pygments_lexer": "ipython3",
   "version": "3.9.6"
  }
 },
 "nbformat": 4,
 "nbformat_minor": 5
}
